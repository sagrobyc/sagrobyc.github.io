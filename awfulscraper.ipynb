{
 "cells": [
  {
   "cell_type": "code",
   "execution_count": 99,
   "metadata": {
    "collapsed": false
   },
   "outputs": [],
   "source": [
    "%matplotlib inline\n",
    "from matplotlib import pyplot as plt\n",
    "plt.rcParams['figure.figsize'] = 15, 10"
   ]
  },
  {
   "cell_type": "code",
   "execution_count": 5,
   "metadata": {
    "collapsed": true
   },
   "outputs": [],
   "source": [
    "from numpy.random import choice"
   ]
  },
  {
   "cell_type": "code",
   "execution_count": 83,
   "metadata": {
    "collapsed": true
   },
   "outputs": [],
   "source": [
    "import re\n",
    "import pandas as pd\n",
    "import pymysql as mdb"
   ]
  },
  {
   "cell_type": "code",
   "execution_count": 2,
   "metadata": {
    "collapsed": true
   },
   "outputs": [],
   "source": [
    "from selenium import webdriver\n",
    "driver_path = '/home/webdriver/chromedriver'\n",
    "chromeOptions = webdriver.ChromeOptions()\n",
    "prefs = {\"profile.managed_default_content_settings.images\":2}\n",
    "chromeOptions.add_experimental_option(\"prefs\",prefs)\n",
    "browser = webdriver.Chrome(driver_path, chrome_options=chromeOptions)\n",
    "login_url = 'http://forums.somethingawful.com/account.php?action=loginform&next=%2F#form'\n",
    "browser.get(login_url)\n",
    "username = browser.find_element_by_name(\"username\")\n",
    "password = browser.find_element_by_name(\"password\")\n",
    "username.send_keys('Grobyc')\n",
    "password.send_keys('my password)\n",
    "login_button = browser.find_element_by_xpath('//input[@value=\"Login!\"]')\n",
    "login_button.click()\n",
    "adblock_url = 'https://chrome.google.com/webstore/detail/adblock/gighmmpiobklfepjocnamgkkbiglidom/related?hl=en-GB'\n",
    "browser.get(adblock_url)"
   ]
  },
  {
   "cell_type": "code",
   "execution_count": 8,
   "metadata": {
    "collapsed": true
   },
   "outputs": [],
   "source": [
    "#reg_pat = r'since registering on <b>(.+)</b>'\n",
    "name_pat = 'Profile for \\'(.+)\\' - The Something Awful'\n",
    "reg_pat = r'Member Since</dt><dd>(.+)</dd>'\n",
    "postcount_pat = r'Post Count</dt><dd>(.+)</dd>'\n",
    "last_post_pat = r'Last Post</dt><dd>(.+)\\s+</dd>'\n",
    "\n",
    "pats = {'regdate':reg_pat, 'postcount':postcount_pat, 'lastpost':last_post_pat, 'name':name_pat}\n",
    "\n",
    "first_id = 15000\n",
    "last_id = 216014\n",
    "sample_ids = [x+50 for x in xrange(first_id,last_id,100)]"
   ]
  },
  {
   "cell_type": "code",
   "execution_count": 187,
   "metadata": {
    "collapsed": true
   },
   "outputs": [],
   "source": [
    "banned_example = 214725\n",
    "permabanned_example = 87207"
   ]
  },
  {
   "cell_type": "code",
   "execution_count": 317,
   "metadata": {
    "collapsed": false
   },
   "outputs": [],
   "source": [
    "def scrape_for_uid(uid, con=None):\n",
    "    url = 'http://forums.somethingawful.com/member.php?action=getinfo&userid=%06d' % uid\n",
    "    browser.get(url)\n",
    "    t = browser.page_source\n",
    "    if 'standarderror' not in t:\n",
    "        permabanned = ('permabanned.gif' in t) or ('permabanned.png' in t)\n",
    "        if permabanned:\n",
    "            ban_status = 2\n",
    "        else:\n",
    "            banned = ('banned.gif' in t) or ('banned.png' in t)\n",
    "            if banned:\n",
    "                ban_status = 1\n",
    "            else:\n",
    "                ban_status = 0\n",
    "        if con is None:\n",
    "            for p in pats.keys():\n",
    "                print p, re.search(pats[p],t).groups()[0]#re.findall(pats[p],t)\n",
    "        else:\n",
    "            values = {fieldname:re.search(pats[fieldname],t).groups()[0] for fieldname in pats.keys()}\n",
    "            with con.cursor() as cur:\n",
    "                sqlcmd = 'INSERT INTO Users VALUES(%d,\"%s\",%d,\"%s\",\"%s\",%d)' % (uid, values['name'].replace('\\\"','\\''), int(values['postcount']), values['regdate'], values['lastpost'], ban_status)\n",
    "                cur.execute(sqlcmd)\n"
   ]
  },
  {
   "cell_type": "code",
   "execution_count": 84,
   "metadata": {
    "collapsed": false
   },
   "outputs": [],
   "source": [
    "con = mdb.connect(host='localhost',user='root',password='pwd',database='SA',charset='utf8')"
   ]
  },
  {
   "cell_type": "code",
   "execution_count": 405,
   "metadata": {
    "collapsed": false
   },
   "outputs": [],
   "source": [
    "with con:\n",
    "    for uid in sample_ids:\n",
    "        scrape_for_uid(uid,con)"
   ]
  },
  {
   "cell_type": "code",
   "execution_count": 85,
   "metadata": {
    "collapsed": true
   },
   "outputs": [],
   "source": [
    "query='SELECT * FROM Users'\n",
    "df = pd.read_sql(query, con, parse_dates=['regdate','lastpost'])\n",
    "df.sort('uid',inplace=True)\n",
    "df['year'] = df.regdate.apply(lambda t:t.year)\n",
    "df = df[df.year!=1969]\n",
    "df = df[df.uid != 74250]\n",
    "df = df[df.regdate < '2015-09-13']\n",
    "df = df[df.regdate != df.regdate[2966]]\n",
    "gg = df.groupby('year')"
   ]
  },
  {
   "cell_type": "code",
   "execution_count": 95,
   "metadata": {
    "collapsed": false
   },
   "outputs": [
    {
     "data": {
      "text/plain": [
       "year\n",
       "2000     15150\n",
       "2001     16600\n",
       "2002     26800\n",
       "2003     20100\n",
       "2004     34700\n",
       "2005     72500\n",
       "2006     90150\n",
       "2007    108300\n",
       "2008    129900\n",
       "2009    145500\n",
       "2010    159450\n",
       "2011    171350\n",
       "2012    183050\n",
       "2013    195000\n",
       "2014    207650\n",
       "2015    213200\n",
       "Name: uid, dtype: int64"
      ]
     },
     "execution_count": 95,
     "metadata": {},
     "output_type": "execute_result"
    }
   ],
   "source": [
    "gg.uid.first()"
   ]
  },
  {
   "cell_type": "code",
   "execution_count": 96,
   "metadata": {
    "collapsed": false
   },
   "outputs": [
    {
     "data": {
      "text/plain": [
       "year\n",
       "2000     16450\n",
       "2001     30800\n",
       "2002     45450\n",
       "2003     46700\n",
       "2004     72450\n",
       "2005     90100\n",
       "2006    108250\n",
       "2007    129850\n",
       "2008    145450\n",
       "2009    159400\n",
       "2010    171300\n",
       "2011    183000\n",
       "2012    194950\n",
       "2013    207600\n",
       "2014    213150\n",
       "2015    216000\n",
       "Name: uid, dtype: int64"
      ]
     },
     "execution_count": 96,
     "metadata": {},
     "output_type": "execute_result"
    }
   ],
   "source": [
    "gg.uid.last()"
   ]
  },
  {
   "cell_type": "code",
   "execution_count": 102,
   "metadata": {
    "collapsed": false
   },
   "outputs": [
    {
     "data": {
      "text/plain": [
       "year\n",
       "2001    14200\n",
       "2002    18650\n",
       "2003    26600\n",
       "2004    37750\n",
       "2005    17600\n",
       "2006    18100\n",
       "2007    21550\n",
       "2008    15550\n",
       "2009    13900\n",
       "2010    11850\n",
       "2011    11650\n",
       "2012    11900\n",
       "2013    12600\n",
       "2014     5500\n",
       "2015     2800\n",
       "Name: uid, dtype: int64"
      ]
     },
     "execution_count": 102,
     "metadata": {},
     "output_type": "execute_result"
    }
   ],
   "source": [
    "ser = gg.uid.last() - gg.uid.first()\n",
    "ser = ser[ser > 1300]\n",
    "#ser = ser.ix[:2014]\n",
    "ser"
   ]
  },
  {
   "cell_type": "code",
   "execution_count": 100,
   "metadata": {
    "collapsed": false
   },
   "outputs": [
    {
     "data": {
      "text/plain": [
       "<matplotlib.text.Text at 0x7f9c14657610>"
      ]
     },
     "execution_count": 100,
     "metadata": {},
     "output_type": "execute_result"
    },
    {
     "data": {
      "image/png": "[encoded data removed]",
      "text/plain": [
       "<matplotlib.figure.Figure at 0x7f9c1454d890>"
      ]
     },
     "metadata": {},
     "output_type": "display_data"
    }
   ],
   "source": [
    "import seaborn as sns\n",
    "ser.plot(kind='line')\n",
    "plt.xlabel('year')\n",
    "plt.ylabel('registrations')\n",
    "plt.title('Estimated new SA Forums account registrations by year (2001-2014)')"
   ]
  },
  {
   "cell_type": "code",
   "execution_count": 101,
   "metadata": {
    "collapsed": false
   },
   "outputs": [
    {
     "data": {
      "text/plain": [
       "year\n",
       "2001    14200\n",
       "2002    18650\n",
       "2003    26600\n",
       "2004    37750\n",
       "2005    17600\n",
       "2006    18100\n",
       "2007    21550\n",
       "2008    15550\n",
       "2009    13900\n",
       "2010    11850\n",
       "2011    11650\n",
       "2012    11900\n",
       "2013    12600\n",
       "2014     5500\n",
       "Name: uid, dtype: int64"
      ]
     },
     "execution_count": 101,
     "metadata": {},
     "output_type": "execute_result"
    }
   ],
   "source": [
    "ser"
   ]
  }
 ],
 "metadata": {
  "kernelspec": {
   "display_name": "Python 2",
   "language": "python",
   "name": "python2"
  },
  "language_info": {
   "codemirror_mode": {
    "name": "ipython",
    "version": 2
   },
   "file_extension": ".py",
   "mimetype": "text/x-python",
   "name": "python",
   "nbconvert_exporter": "python",
   "pygments_lexer": "ipython2",
   "version": "2.7.10"
  }
 },
 "nbformat": 4,
 "nbformat_minor": 0
}
